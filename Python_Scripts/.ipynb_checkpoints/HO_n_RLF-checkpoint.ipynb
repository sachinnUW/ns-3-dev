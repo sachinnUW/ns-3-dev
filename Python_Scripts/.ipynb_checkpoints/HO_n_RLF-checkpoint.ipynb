{
 "cells": [
  {
   "cell_type": "markdown",
   "metadata": {},
   "source": [
    "# Initial Steps:\n",
    "\n",
    "1. Import the 'subprocess' package and set path variables.\n",
    "2. Configure NS-3 suitably.\n",
    "3. Build NS-3.\n",
    "\n",
    "You need to do this only once for building the program."
   ]
  },
  {
   "cell_type": "code",
   "execution_count": 100,
   "metadata": {},
   "outputs": [],
   "source": [
    "# System import\n",
    "import subprocess as shell\n",
    "\n",
    "# Variables for source directory and .waf command.\n",
    "SOURCE_DIR = \"/home/sachin/repos/ns-3-dev/\"\n",
    "WAF_COMMAND = SOURCE_DIR + \"waf\"\n",
    "CONF_PARAMS = ' configure --enable-examples --enable-tests --enable-sudo --disable-python'"
   ]
  },
  {
   "cell_type": "code",
   "execution_count": 101,
   "metadata": {},
   "outputs": [
    {
     "name": "stdout",
     "output_type": "stream",
     "text": [
      "Configure NS-3.\n",
      "Build NS-3.\n"
     ]
    },
    {
     "data": {
      "text/plain": [
       "CompletedProcess(args='/home/sachin/repos/ns-3-dev/waf', returncode=0)"
      ]
     },
     "execution_count": 101,
     "metadata": {},
     "output_type": "execute_result"
    }
   ],
   "source": [
    "# Perform configuration and build\n",
    "print(\"Configure NS-3.\")\n",
    "shell.run(WAF_COMMAND + CONF_PARAMS, shell=True)\n",
    "print(\"Build NS-3.\")\n",
    "shell.run(WAF_COMMAND)"
   ]
  },
  {
   "cell_type": "markdown",
   "metadata": {},
   "source": [
    "# Setup the NS-3 Environment:\n",
    "\n",
    "Set up NS-3 or waf environment. Start from here every time you start this notebook.\n",
    "\n",
    "<Still under construction; need to pass environment variables to subsequent check_output functions or use pexpect instead.>"
   ]
  },
  {
   "cell_type": "code",
   "execution_count": 56,
   "metadata": {},
   "outputs": [
    {
     "name": "stdout",
     "output_type": "stream",
     "text": [
      "Setting up NS-3 environment.\n"
     ]
    }
   ],
   "source": [
    "import subprocess as shell\n",
    "\n",
    "# Set up environment variables so that you don't have to build each time.\n",
    "WAF_SHELL = WAF_COMMAND + ' shell'\n",
    "print(\"Setting up NS-3 environment.\")\n",
    "Ns3 = shell.Popen(WAF_SHELL, shell=True, stdin= shell.PIPE, stdout=shell.PIPE, stderr=shell.STDOUT)"
   ]
  },
  {
   "cell_type": "markdown",
   "metadata": {},
   "source": [
    "# Stuff for Plotting\n",
    "\n",
    "Get the imports for plotting stuff in Python and write the functions to parse NS-3 outputs."
   ]
  },
  {
   "cell_type": "code",
   "execution_count": 54,
   "metadata": {},
   "outputs": [],
   "source": [
    "# Imports for plotting\n",
    "import sys\n",
    "import matplotlib\n",
    "import matplotlib.pyplot as plt\n",
    "\n",
    "UE_MEAS_FILE = SOURCE_DIR + \"lena-handover-simple-ue-measurements.dat\"\n",
    "UE_SINR_FILE = SOURCE_DIR + \"DlRsrpSinrStats.txt\""
   ]
  },
  {
   "cell_type": "code",
   "execution_count": null,
   "metadata": {},
   "outputs": [],
   "source": [
    "def plot_RSRP_RSRQ_SINR(num_eNBs):\n",
    "    \n",
    "    # Variables for parsing Measurement reports at eNB\n",
    "    eNB_times = [[] for _ in range(num_eNBs)]\n",
    "    RSRPs = [[] for _ in range(num_eNBs)]\n",
    "    RSRQs = [[] for _ in range(num_eNBs)]\n",
    "\n",
    "    # Variables for parsing SINR calculated at UE\n",
    "    UE_times = []\n",
    "    SINR_times = []\n",
    "    \n",
    "    # Iterate over each line in the ue-measurements file.\n",
    "    fd = open(UE_MEAS_FILE, 'r')\n",
    "    for line in fd:\n",
    "        l = line.split()\n",
    "        if line.startswith(\"#\"):\n",
    "            continue\n",
    "        eNB_num = int(l[2]) \n",
    "        if eNB_num > 0:\n",
    "            eNB_times[eNB_num].append(float(l[0]))\n",
    "            RSRPs[eNB_num].append(float(l[5]))\n",
    "            RSRQs[eNB_num].append(float(l[6]))\n",
    "    fd.close()\n",
    "\n",
    "    if len(eNB_times[0]) == 0:\n",
    "        print(\"No data points found, exiting...\")\n",
    "        return\n",
    "\n",
    "    for i in range(num_eNBs):\n",
    "        plt.scatter(eNB_times[i], RSRPs[i], marker='.', label='cell ' + str(i))    \n",
    "    plt.xlabel('Time (s)')\n",
    "    plt.ylabel('RSRP (dBm)')\n",
    "    plt.title('RSRP Plot')\n",
    "    plt.show()\n",
    "    "
   ]
  },
  {
   "attachments": {},
   "cell_type": "markdown",
   "metadata": {},
   "source": [
    "# LENA-HANDOVER-SIMPLE\n",
    "\n",
    "![simple_topology](Images/Topology.png)\n",
    "\n",
    "We run a modified version of 'lena-x2-handover-measures' with different simulation and HO optimization parameters to observe the below.\n",
    "\n",
    "1. Successful handover (HO) of user entities (UEs) between base stations (eNBs)\n",
    "2. Handover failure due to radio link failure (RLF) resulting from low SINR\n",
    "\n",
    "![A3_Relation](Images/A3_Relation.png)\n",
    "\n",
    "Can we verify the easier metric in the below image first?\n",
    "\n",
    "![HF](Images/HF.png)"
   ]
  },
  {
   "cell_type": "code",
   "execution_count": 107,
   "metadata": {},
   "outputs": [],
   "source": [
    "# Variables for running the program.\n",
    "\n",
    "# Path to built program\n",
    "BUILD_DIR = \"./build/scratch/lena-handover-simple/lena-handover-simple\"\n",
    "RUN_COMMAND = \"/home/sachin/repos/ns-3-dev/waf --run=\\\"lena-handover-simple\"\n",
    "\n",
    "# Parameters for simulation; base: 'lena-x2-handover-measures.cc'\n",
    "NUM_ENBS = 2\n",
    "SIM_PARAMS = \" --y_for_UE=1200 --inter_eNB_dist=1200 --neNBs=\" + str(NUM_ENBS)\n",
    "\n",
    "# HO parameters for successful HO and RLF; #36.331\n",
    "HO_PARAM_SUCCESS = \" --speed=20 --timeToTrigger=40\"\n",
    "HO_PARAM_RLF = \" --speed=200 --timeToTrigger=256\"\n",
    "\n",
    "# Parameters for RLF. #36.331\n",
    "T310 = 50             # [ms] standards limit to {0, 50, 100, 200, 500, 1000, 2000}; default to small value of 50 ms but ns-3 defaults to 1000 ms; time after which radio problem detection and no radio recovery to indicate RLF\n",
    "N310 = 1              # standards limit to {1, 2, 3, 4, 6, 8, 10, 20}; default to one out-of-sync indication but ns-3 defaults to 6; N310 out-of-sync indications leads to radio problem detection at UE\n",
    "N311 = 1              # standards limit to {1, 2, 3, 4, 6, 8, 10}; default to one in-sync indication but ns-3 defaults to 2; N311 in-sync indications leads to radio recovery at UE\n",
    "Qout = -5             # [dB] set to ns-3 default of -5 dB; 36.839 sets it to -8 dB\n",
    "Qin = -3.9            # [dB] set to ns-3 default of -3.9 dB; 36.839 sets it to -6 dB\n",
    "numQoutEvalSf = 20    # [ms] number of subframes of 1 ms each; set to small value for quick detection; numQoutEvalSf is defined as TEval_Qout in #36.133\n",
    "numQinEvalSf = 10     # [ms] number of subframes of 1 ms each; set to small value for quick detection; numQinEvalSf is defined as TEval_Qin in #36.133\n",
    "RLF_PARAMS = \" --qOut=\" + str(Qout) + \" --qIn=\" + str(Qin) + \" --numQoutEvalSf=\" + str(numQoutEvalSf) + \" --numQinEvalSf=\" + str(numQinEvalSf) + \" --t310=\" + str(T310) + \" --n310=\" + str(N310) + \" --n311=\" + str(N311)  \n",
    "\n",
    "# Commands for successful HO and RLF for running interactively; under construction\n",
    "COMMAND_SUCCESS = BUILD_DIR + HO_PARAM_SUCCESS + SIM_PARAMS + RLF_PARAMS\n",
    "COMMAND_RLF = BUILD_DIR + HO_PARAM_RLF + SIM_PARAMS + RLF_PARAMS\n",
    "\n",
    "# Single run commands for RLF/HO\n",
    "RUN_COMMAND_SUCCESS = RUN_COMMAND + HO_PARAM_SUCCESS + SIM_PARAMS + RLF_PARAMS + \"\\\"\"\n",
    "RUN_COMMAND_RLF = RUN_COMMAND + HO_PARAM_RLF + SIM_PARAMS + RLF_PARAMS + \"\\\"\"\n",
    "\n",
    "# ENCODING for decoding byte stream\n",
    "ENCODING = \"utf-8\""
   ]
  },
  {
   "cell_type": "code",
   "execution_count": 112,
   "metadata": {},
   "outputs": [
    {
     "name": "stdout",
     "output_type": "stream",
     "text": [
      "Run with TTT = 40ms and speed = 20m/s for successful HO.\n",
      "['ENB_EST_CONNECTION: IMSI-1 CellId-1 RNTI-1 Time-0.279929', 'ENB_START_HO: IMSI-1 SCellId-1 TCellId-2 RNTI-1 Time-100.453', 'UE_HO_START: IMSI-1 SCellId-1 TCellId-2 RNTI-1 Time-100.457', 'UE_HO_END: IMSI-1 TCellId-2 RNTI-1 Time-100.46']\n"
     ]
    }
   ],
   "source": [
    "# Run the HO simulation with parameters for successful HO.\n",
    "print(\"Run with TTT = 40ms and speed = 20m/s for successful HO.\")\n",
    "out_HO = shell.check_output(RUN_COMMAND_SUCCESS, shell=True).decode(ENCODING).split('\\n')[5:-2]\n",
    "print(out_HO)"
   ]
  },
  {
   "cell_type": "code",
   "execution_count": 111,
   "metadata": {},
   "outputs": [
    {
     "name": "stdout",
     "output_type": "stream",
     "text": [
      "Run with TTT = 256ms and speed = 200m/s for RLF.\n",
      "['ENB_EST_CONNECTION: IMSI-1 CellId-1 RNTI-1 Time-0.279929', 'OUT_OF_SYNC: IMSI-1 RNTI-1 CellId-1 Count-1 Time-10.5772', 'RLF_DETECTED: IMSI-1 X-2125.44 Y-1200 RNTI-1 CellId-1 Time-10.6272', 'UE_EST_CONNECTION: IMSI-1 CellId-2 RNTI-1 Time-10.828']\n"
     ]
    }
   ],
   "source": [
    "# Run the HO simulation with parameters for RLF.\n",
    "print(\"Run with TTT = 256ms and speed = 200m/s for RLF.\")\n",
    "out_RLF = shell.check_output(RUN_COMMAND_RLF, shell=True).decode(ENCODING).split('\\n')[5:-2]\n",
    "print(out_RLF)"
   ]
  },
  {
   "cell_type": "code",
   "execution_count": null,
   "metadata": {},
   "outputs": [],
   "source": []
  }
 ],
 "metadata": {
  "kernelspec": {
   "display_name": "Python 3",
   "language": "python",
   "name": "python3"
  },
  "language_info": {
   "codemirror_mode": {
    "name": "ipython",
    "version": 3
   },
   "file_extension": ".py",
   "mimetype": "text/x-python",
   "name": "python",
   "nbconvert_exporter": "python",
   "pygments_lexer": "ipython3",
   "version": "3.8.5"
  }
 },
 "nbformat": 4,
 "nbformat_minor": 4
}
